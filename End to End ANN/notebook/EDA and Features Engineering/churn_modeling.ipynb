{
 "cells": [
  {
   "cell_type": "code",
   "execution_count": 8,
   "metadata": {},
   "outputs": [],
   "source": [
    "import numpy as np\n",
    "import pandas as pd\n",
    "import matplotlib.pyplot as plt\n",
    "import seaborn as sns\n",
    "from sklearn.model_selection import train_test_split\n",
    "from sklearn.preprocessing import StandardScaler, LabelEncoder\n",
    "import pickle\n",
    "import os\n",
    "%matplotlib inline"
   ]
  },
  {
   "cell_type": "code",
   "execution_count": 7,
   "metadata": {},
   "outputs": [
    {
     "data": {
      "text/plain": [
       "'\\n#   Column           Non-Null Count  Dtype  \\n---  ------           --------------  -----  \\n 0   RowNumber        10000 non-null  int64  \\n 1   CustomerId       10000 non-null  int64  \\n 2   Surname          10000 non-null  object \\n 3   CreditScore      10000 non-null  int64  \\n 4   Geography        10000 non-null  object \\n 5   Gender           10000 non-null  object \\n 6   Age              10000 non-null  int64  \\n 7   Tenure           10000 non-null  int64  \\n 8   Balance          10000 non-null  float64\\n 9   NumOfProducts    10000 non-null  int64  \\n 10  HasCrCard        10000 non-null  int64  \\n 11  IsActiveMember   10000 non-null  int64  \\n 12  EstimatedSalary  10000 non-null  float64\\n 13  Exited           10000 non-null  int64 \\n'"
      ]
     },
     "execution_count": 7,
     "metadata": {},
     "output_type": "execute_result"
    }
   ],
   "source": [
    "dataset=pd.read_csv('../Data/Churn_Modelling.csv')\n",
    "# dataset.head()\n",
    "# dataset.info()\n",
    "\n",
    "\"\"\"\n",
    "#   Column           Non-Null Count  Dtype  \n",
    "---  ------           --------------  -----  \n",
    " 0   RowNumber        10000 non-null  int64  \n",
    " 1   CustomerId       10000 non-null  int64  \n",
    " 2   Surname          10000 non-null  object \n",
    " 3   CreditScore      10000 non-null  int64  \n",
    " 4   Geography        10000 non-null  object \n",
    " 5   Gender           10000 non-null  object \n",
    " 6   Age              10000 non-null  int64  \n",
    " 7   Tenure           10000 non-null  int64  \n",
    " 8   Balance          10000 non-null  float64\n",
    " 9   NumOfProducts    10000 non-null  int64  \n",
    " 10  HasCrCard        10000 non-null  int64  \n",
    " 11  IsActiveMember   10000 non-null  int64  \n",
    " 12  EstimatedSalary  10000 non-null  float64\n",
    " 13  Exited           10000 non-null  int64 \n",
    "\"\"\""
   ]
  },
  {
   "cell_type": "code",
   "execution_count": null,
   "metadata": {},
   "outputs": [],
   "source": []
  },
  {
   "cell_type": "code",
   "execution_count": null,
   "metadata": {},
   "outputs": [],
   "source": []
  },
  {
   "cell_type": "code",
   "execution_count": null,
   "metadata": {},
   "outputs": [],
   "source": []
  },
  {
   "cell_type": "code",
   "execution_count": null,
   "metadata": {},
   "outputs": [],
   "source": []
  },
  {
   "cell_type": "code",
   "execution_count": null,
   "metadata": {},
   "outputs": [],
   "source": []
  },
  {
   "cell_type": "code",
   "execution_count": null,
   "metadata": {},
   "outputs": [],
   "source": []
  }
 ],
 "metadata": {
  "kernelspec": {
   "display_name": "Python 3",
   "language": "python",
   "name": "python3"
  },
  "language_info": {
   "codemirror_mode": {
    "name": "ipython",
    "version": 3
   },
   "file_extension": ".py",
   "mimetype": "text/x-python",
   "name": "python",
   "nbconvert_exporter": "python",
   "pygments_lexer": "ipython3",
   "version": "3.10.16"
  }
 },
 "nbformat": 4,
 "nbformat_minor": 2
}
